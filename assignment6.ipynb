{
  "nbformat": 4,
  "nbformat_minor": 0,
  "metadata": {
    "colab": {
      "provenance": []
    },
    "kernelspec": {
      "name": "python3",
      "display_name": "Python 3"
    },
    "language_info": {
      "name": "python"
    }
  },
  "cells": [
    {
      "cell_type": "code",
      "execution_count": 1,
      "metadata": {
        "id": "H0Vb_PqZeIpC"
      },
      "outputs": [],
      "source": [
        "# Import necessary libraries\n",
        "import pandas as pd\n",
        "import numpy as np\n",
        "from sklearn.datasets import load_wine\n",
        "from sklearn.model_selection import train_test_split, GridSearchCV, RandomizedSearchCV\n",
        "from sklearn.preprocessing import StandardScaler\n",
        "from sklearn.metrics import accuracy_score, precision_score, recall_score, f1_score, classification_report\n",
        "\n",
        "# Models\n",
        "from sklearn.linear_model import LogisticRegression\n",
        "from sklearn.ensemble import RandomForestClassifier\n",
        "from sklearn.svm import SVC\n",
        "from sklearn.tree import DecisionTreeClassifier\n",
        "from sklearn.naive_bayes import GaussianNB\n"
      ]
    },
    {
      "cell_type": "code",
      "source": [
        "# Load Wine dataset\n",
        "wine = load_wine()\n",
        "X = wine.data\n",
        "y = wine.target\n",
        "\n",
        "# Train-Test Split\n",
        "X_train, X_test, y_train, y_test = train_test_split(\n",
        "    X, y, test_size=0.2, random_state=42\n",
        ")\n",
        "\n",
        "# Standardize the features\n",
        "scaler = StandardScaler()\n",
        "X_train = scaler.fit_transform(X_train)\n",
        "X_test = scaler.transform(X_test)\n"
      ],
      "metadata": {
        "id": "UPGCtMaJfOIH"
      },
      "execution_count": 2,
      "outputs": []
    },
    {
      "cell_type": "code",
      "source": [
        "# Define models to train\n",
        "models = {\n",
        "    \"Logistic Regression\": LogisticRegression(max_iter=1000),\n",
        "    \"Random Forest\": RandomForestClassifier(),\n",
        "    \"SVM\": SVC(),\n",
        "    \"Decision Tree\": DecisionTreeClassifier(),\n",
        "    \"Naive Bayes\": GaussianNB()\n",
        "}\n",
        "\n",
        "# Store evaluation results\n",
        "results = []\n",
        "\n",
        "# Train and evaluate each model\n",
        "for name, model in models.items():\n",
        "    model.fit(X_train, y_train)\n",
        "    y_pred = model.predict(X_test)\n",
        "\n",
        "    results.append({\n",
        "        \"Model\": name,\n",
        "        \"Accuracy\": accuracy_score(y_test, y_pred),\n",
        "        \"Precision\": precision_score(y_test, y_pred, average='weighted'),\n",
        "        \"Recall\": recall_score(y_test, y_pred, average='weighted'),\n",
        "        \"F1-Score\": f1_score(y_test, y_pred, average='weighted')\n",
        "    })\n"
      ],
      "metadata": {
        "id": "-0Wo0-uBfhfn"
      },
      "execution_count": 3,
      "outputs": []
    },
    {
      "cell_type": "code",
      "source": [
        "# Show initial evaluation results\n",
        "results_df = pd.DataFrame(results)\n",
        "print(\"Initial Model Performance:\\n\")\n",
        "print(results_df.sort_values(by=\"F1-Score\", ascending=False))\n"
      ],
      "metadata": {
        "colab": {
          "base_uri": "https://localhost:8080/"
        },
        "id": "mjWtDrt-foxJ",
        "outputId": "0fc87631-2931-4ccf-9682-d59818b03f72"
      },
      "execution_count": 4,
      "outputs": [
        {
          "output_type": "stream",
          "name": "stdout",
          "text": [
            "Initial Model Performance:\n",
            "\n",
            "                 Model  Accuracy  Precision    Recall  F1-Score\n",
            "0  Logistic Regression  1.000000   1.000000  1.000000  1.000000\n",
            "1        Random Forest  1.000000   1.000000  1.000000  1.000000\n",
            "2                  SVM  1.000000   1.000000  1.000000  1.000000\n",
            "4          Naive Bayes  1.000000   1.000000  1.000000  1.000000\n",
            "3        Decision Tree  0.944444   0.951389  0.944444  0.944856\n"
          ]
        }
      ]
    },
    {
      "cell_type": "code",
      "source": [
        "# Hyperparameter tuning using GridSearchCV for Random Forest\n",
        "param_grid_rf = {\n",
        "    'n_estimators': [50, 100, 150],\n",
        "    'max_depth': [None, 5, 10],\n",
        "    'min_samples_split': [2, 5]\n",
        "}\n",
        "\n",
        "grid_rf = GridSearchCV(\n",
        "    RandomForestClassifier(),\n",
        "    param_grid=param_grid_rf,\n",
        "    cv=5,\n",
        "    scoring='f1_weighted',\n",
        "    n_jobs=-1\n",
        ")\n",
        "\n",
        "grid_rf.fit(X_train, y_train)\n",
        "print(\"Best Parameters (GridSearchCV - RF):\", grid_rf.best_params_)\n"
      ],
      "metadata": {
        "colab": {
          "base_uri": "https://localhost:8080/"
        },
        "id": "PRqglAc8fwBP",
        "outputId": "6584e957-53c0-4004-e006-d892bc44779d"
      },
      "execution_count": 5,
      "outputs": [
        {
          "output_type": "stream",
          "name": "stdout",
          "text": [
            "Best Parameters (GridSearchCV - RF): {'max_depth': 10, 'min_samples_split': 2, 'n_estimators': 50}\n"
          ]
        }
      ]
    },
    {
      "cell_type": "code",
      "source": [
        "# Hyperparameter tuning using RandomizedSearchCV for SVM\n",
        "from scipy.stats import uniform\n",
        "param_dist_svm = {\n",
        "    'C': uniform(0.1, 10),\n",
        "    'kernel': ['linear', 'rbf', 'poly'],\n",
        "    'gamma': ['scale', 'auto']\n",
        "}\n",
        "\n",
        "random_svm = RandomizedSearchCV(\n",
        "    SVC(),\n",
        "    param_distributions=param_dist_svm,\n",
        "    n_iter=20,\n",
        "    cv=5,\n",
        "    scoring='f1_weighted',\n",
        "    random_state=42,\n",
        "    n_jobs=-1\n",
        ")\n",
        "\n",
        "random_svm.fit(X_train, y_train)\n",
        "print(\"Best Parameters (RandomizedSearchCV - SVM):\", random_svm.best_params_)\n"
      ],
      "metadata": {
        "colab": {
          "base_uri": "https://localhost:8080/"
        },
        "id": "RRjHcqrNf4N1",
        "outputId": "7cbdc43b-0c77-4530-ef3c-1fe1bf08eb45"
      },
      "execution_count": 6,
      "outputs": [
        {
          "output_type": "stream",
          "name": "stdout",
          "text": [
            "Best Parameters (RandomizedSearchCV - SVM): {'C': np.float64(0.30584494295802445), 'gamma': 'auto', 'kernel': 'rbf'}\n"
          ]
        }
      ]
    },
    {
      "cell_type": "code",
      "source": [
        "# Final evaluation of best models from tuning\n",
        "best_rf = grid_rf.best_estimator_\n",
        "best_svm = random_svm.best_estimator_\n",
        "\n",
        "for model, name in [(best_rf, \"Tuned Random Forest\"), (best_svm, \"Tuned SVM\")]:\n",
        "    y_pred = model.predict(X_test)\n",
        "    print(f\"\\n{name} Classification Report:\\n\")\n",
        "    print(classification_report(y_test, y_pred))\n"
      ],
      "metadata": {
        "colab": {
          "base_uri": "https://localhost:8080/"
        },
        "id": "T04TobnVf9al",
        "outputId": "44881699-71b5-46f1-e8f6-30a2a54bf30a"
      },
      "execution_count": 7,
      "outputs": [
        {
          "output_type": "stream",
          "name": "stdout",
          "text": [
            "\n",
            "Tuned Random Forest Classification Report:\n",
            "\n",
            "              precision    recall  f1-score   support\n",
            "\n",
            "           0       1.00      1.00      1.00        14\n",
            "           1       1.00      1.00      1.00        14\n",
            "           2       1.00      1.00      1.00         8\n",
            "\n",
            "    accuracy                           1.00        36\n",
            "   macro avg       1.00      1.00      1.00        36\n",
            "weighted avg       1.00      1.00      1.00        36\n",
            "\n",
            "\n",
            "Tuned SVM Classification Report:\n",
            "\n",
            "              precision    recall  f1-score   support\n",
            "\n",
            "           0       1.00      1.00      1.00        14\n",
            "           1       1.00      1.00      1.00        14\n",
            "           2       1.00      1.00      1.00         8\n",
            "\n",
            "    accuracy                           1.00        36\n",
            "   macro avg       1.00      1.00      1.00        36\n",
            "weighted avg       1.00      1.00      1.00        36\n",
            "\n"
          ]
        }
      ]
    },
    {
      "cell_type": "code",
      "source": [
        "# Compare the final tuned models\n",
        "final_results = [\n",
        "    {\n",
        "        \"Model\": \"Tuned Random Forest\",\n",
        "        \"Accuracy\": accuracy_score(y_test, best_rf.predict(X_test)),\n",
        "        \"Precision\": precision_score(y_test, best_rf.predict(X_test), average='weighted'),\n",
        "        \"Recall\": recall_score(y_test, best_rf.predict(X_test), average='weighted'),\n",
        "        \"F1-Score\": f1_score(y_test, best_rf.predict(X_test), average='weighted')\n",
        "    },\n",
        "    {\n",
        "        \"Model\": \"Tuned SVM\",\n",
        "        \"Accuracy\": accuracy_score(y_test, best_svm.predict(X_test)),\n",
        "        \"Precision\": precision_score(y_test, best_svm.predict(X_test), average='weighted'),\n",
        "        \"Recall\": recall_score(y_test, best_svm.predict(X_test), average='weighted'),\n",
        "        \"F1-Score\": f1_score(y_test, best_svm.predict(X_test), average='weighted')\n",
        "    }\n",
        "]\n",
        "\n",
        "final_results_df = pd.DataFrame(final_results)\n",
        "print(\"\\nFinal Tuned Model Performance:\\n\")\n",
        "print(final_results_df.sort_values(by='F1-Score', ascending=False))\n"
      ],
      "metadata": {
        "colab": {
          "base_uri": "https://localhost:8080/"
        },
        "id": "tPki871FgCvS",
        "outputId": "0389d5f1-45ad-434c-8fe7-88330a8323bc"
      },
      "execution_count": 8,
      "outputs": [
        {
          "output_type": "stream",
          "name": "stdout",
          "text": [
            "\n",
            "Final Tuned Model Performance:\n",
            "\n",
            "                 Model  Accuracy  Precision  Recall  F1-Score\n",
            "0  Tuned Random Forest       1.0        1.0     1.0       1.0\n",
            "1            Tuned SVM       1.0        1.0     1.0       1.0\n"
          ]
        }
      ]
    }
  ]
}